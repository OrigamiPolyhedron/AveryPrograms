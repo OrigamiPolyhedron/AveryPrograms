{
 "cells": [
  {
   "cell_type": "code",
   "execution_count": 39,
   "id": "9094f38b-405b-46a7-bb5d-ba7d95892806",
   "metadata": {},
   "outputs": [
    {
     "name": "stdout",
     "output_type": "stream",
     "text": [
      "Please enter vehicle type...  car\n"
     ]
    },
    {
     "name": "stdout",
     "output_type": "stream",
     "text": [
      "\n"
     ]
    },
    {
     "name": "stdout",
     "output_type": "stream",
     "text": [
      "Please enter vehicle year...  2006\n"
     ]
    },
    {
     "name": "stdout",
     "output_type": "stream",
     "text": [
      "\n"
     ]
    },
    {
     "name": "stdout",
     "output_type": "stream",
     "text": [
      "Please enter vehicle make...  Hyundai\n"
     ]
    },
    {
     "name": "stdout",
     "output_type": "stream",
     "text": [
      "\n"
     ]
    },
    {
     "name": "stdout",
     "output_type": "stream",
     "text": [
      "Please enter vehicle model...  Sonata\n"
     ]
    },
    {
     "name": "stdout",
     "output_type": "stream",
     "text": [
      "\n"
     ]
    },
    {
     "name": "stdout",
     "output_type": "stream",
     "text": [
      "Please enter number of doors...  4\n"
     ]
    },
    {
     "name": "stdout",
     "output_type": "stream",
     "text": [
      "\n"
     ]
    },
    {
     "name": "stdout",
     "output_type": "stream",
     "text": [
      "Please enter solid or sun roof...  solid\n"
     ]
    },
    {
     "name": "stdout",
     "output_type": "stream",
     "text": [
      " The car is:\n",
      " Year: 2006\n",
      " Make: Hyundai\n",
      " Model: Sonata\n",
      " Number of Doors: 4\n",
      " Roof Type: solid\n",
      "\n"
     ]
    }
   ],
   "source": [
    "#Programmer: E. Avery Boston\n",
    "#Date: 06/25/2024\n",
    "#Program File: M03LabCaseStudy\n",
    "#This program will get one attribute for Vehicle class and then have a class, Automobile,\n",
    "#inherit an attribute. It will also accept user input for Automobile for the remaining attributes.\n",
    "#At the end, the app will output the  collected data in a tidy format showing the various attributes of the Automobile(Vehicle)\n",
    "#Classes: Vehcile, Automobile  Attributes: vType-vehicle type, year-year vehicle was made, make-company that made vehicle\n",
    "#Attributes: model-name given to vehicle model, doors-number of vehicle doors, roof-type of vehicle roof\n",
    "\n",
    "#Super Class\n",
    "class Vehicle:\n",
    "    #attribute: vType\n",
    "    def __init__(self, vType):\n",
    "        self.vType = vType\n",
    "\n",
    "    def getVtype(self):\n",
    "        return self.vType\n",
    "\n",
    "    def __str__(self):\n",
    "        return f\"{self.vType}\"\n",
    "\n",
    "usertype = input(\"Please enter vehicle type... \")\n",
    "\n",
    "v1 = Vehicle(usertype)\n",
    "print()\n",
    "#test print statements\n",
    "#print(\"The vehicle type is a \" + v1.getVtype())\n",
    "\n",
    "class Automobile(Vehicle):\n",
    "    #attributes: inherited vType, year, make, model, doors, roof \n",
    "    def __init__(self, year, make, model, doors, roof, vehicle):\n",
    "        \n",
    "        self.year = year\n",
    "        self.make = make\n",
    "        self.model = model\n",
    "        self.doors = doors\n",
    "        self.roof = roof\n",
    "        #Line to get it from the parent\n",
    "\n",
    "    def getYear(self):\n",
    "        return self.year\n",
    "        \n",
    "    def getMake(self):\n",
    "        return self.make\n",
    "\n",
    "    def getmodel(self):\n",
    "        return self.model\n",
    "\n",
    "    def getdoors(self):\n",
    "        return self.doors\n",
    "\n",
    "    def getroof(self):\n",
    "        return self.roof\n",
    "    #output string with formatting to get program output\n",
    "    def __str__(self):\n",
    "        return f\" The {self.vType} is:\\n Year: {self.year}\\n Make: {self.make}\\n Model: {self.model}\\n Number of Doors: {self.doors}\\n Roof Type: {self.roof}\"\n",
    "#user input statements\n",
    "useryear = input(\"Please enter vehicle year... \")\n",
    "print()\n",
    "usermake = input(\"Please enter vehicle make... \")\n",
    "print()\n",
    "usermodel = input(\"Please enter vehicle model... \")\n",
    "print()\n",
    "userdoors = input(\"Please enter number of doors... \")\n",
    "print()\n",
    "userroof = input(\"Please enter solid or sun roof... \")\n",
    "\n",
    "usercar = Automobile(useryear, usermake, usermodel, userdoors, userroof, v1)\n",
    "\n",
    "print(usercar)\n",
    "print()"
   ]
  },
  {
   "cell_type": "code",
   "execution_count": null,
   "id": "175e48a0-de44-4bb4-9027-3b3657c9cc7f",
   "metadata": {},
   "outputs": [],
   "source": []
  },
  {
   "cell_type": "code",
   "execution_count": null,
   "id": "4f369d38-45d9-4137-80ae-edbf52bc2314",
   "metadata": {},
   "outputs": [],
   "source": []
  }
 ],
 "metadata": {
  "kernelspec": {
   "display_name": "Python 3 (ipykernel)",
   "language": "python",
   "name": "python3"
  },
  "language_info": {
   "codemirror_mode": {
    "name": "ipython",
    "version": 3
   },
   "file_extension": ".py",
   "mimetype": "text/x-python",
   "name": "python",
   "nbconvert_exporter": "python",
   "pygments_lexer": "ipython3",
   "version": "3.11.7"
  }
 },
 "nbformat": 4,
 "nbformat_minor": 5
}
