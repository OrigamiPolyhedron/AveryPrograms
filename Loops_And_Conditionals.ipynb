{
 "cells": [
  {
   "cell_type": "code",
   "execution_count": 3,
   "id": "671d23f1-7f81-47fd-a459-e292023526fd",
   "metadata": {},
   "outputs": [
    {
     "name": "stdout",
     "output_type": "stream",
     "text": [
      "Please choose a number between 1 and 10:   3\n"
     ]
    },
    {
     "name": "stdout",
     "output_type": "stream",
     "text": [
      "just right\n"
     ]
    }
   ],
   "source": [
    "#4.1\n",
    "secret = 3\n",
    "guess = int(input(\"Please choose a number between 1 and 10:  \"))\n",
    "if guess < secret:\n",
    "    print(\"too low\")\n",
    "elif guess > secret:\n",
    "    print(\"too high\")\n",
    "else:\n",
    "    print(\"just right\")"
   ]
  },
  {
   "cell_type": "code",
   "execution_count": 8,
   "id": "ad8a8dd6-9eba-44e8-80aa-25ca67550ba9",
   "metadata": {},
   "outputs": [
    {
     "name": "stdout",
     "output_type": "stream",
     "text": [
      "It's a cherry\n"
     ]
    }
   ],
   "source": [
    "#4.2 \n",
    "small = True\n",
    "green = False\n",
    "if small:\n",
    "    if green:\n",
    "        print(\"It's a pea.\")\n",
    "    else:\n",
    "        print(\"It's a cherry\")\n",
    "else:\n",
    "    if green:\n",
    "        print(\"It's a watermelon.\")\n",
    "    else:\n",
    "        print(\"It's a pumpkin.\")\n",
    "\n"
   ]
  },
  {
   "cell_type": "code",
   "execution_count": 9,
   "id": "406e6f97-e8d9-4273-aebf-5f9bb50221d5",
   "metadata": {},
   "outputs": [
    {
     "name": "stdout",
     "output_type": "stream",
     "text": [
      "3\n",
      "2\n",
      "1\n",
      "0\n"
     ]
    }
   ],
   "source": [
    "#6.1\n",
    "list = [3,2,1,0]\n",
    "for num in list:\n",
    "    print(num)"
   ]
  },
  {
   "cell_type": "code",
   "execution_count": null,
   "id": "ab0ec95b-e149-48fa-af37-4d75417fb977",
   "metadata": {},
   "outputs": [],
   "source": [
    "#6.2 \n",
    "guess_me = 7\n",
    "number = 1\n",
    "while guess_me <= number or guess_me > number:\n",
    "    if guess_me == number:\n",
    "        print(\"found it!\")\n",
    "        break\n",
    "    elif guess_me > number:\n",
    "        print(\"oops\")\n",
    "        break\n",
    "    else:\n",
    "        print(\"too low\")\n",
    "        guess_me += 1"
   ]
  },
  {
   "cell_type": "code",
   "execution_count": 20,
   "id": "207929a5-3f30-4953-987b-4aaab33a3ac5",
   "metadata": {},
   "outputs": [
    {
     "name": "stdout",
     "output_type": "stream",
     "text": [
      "too low\n",
      "too low\n",
      "too low\n",
      "too low\n",
      "found it!\n"
     ]
    }
   ],
   "source": [
    "#6.3\n",
    "guess_me = 5\n",
    "number = 1\n",
    "\n",
    "for number in range(number,11,1):\n",
    "    if number == guess_me:\n",
    "        print(\"found it!\")\n",
    "        break\n",
    "    elif number > guess_me:\n",
    "        print(\"oops\")\n",
    "        break\n",
    "    else:\n",
    "        print(\"too low\")"
   ]
  },
  {
   "cell_type": "code",
   "execution_count": null,
   "id": "071fa6c1-d694-40ab-b1ad-e699a5d1d5ef",
   "metadata": {},
   "outputs": [],
   "source": []
  }
 ],
 "metadata": {
  "kernelspec": {
   "display_name": "Python 3 (ipykernel)",
   "language": "python",
   "name": "python3"
  },
  "language_info": {
   "codemirror_mode": {
    "name": "ipython",
    "version": 3
   },
   "file_extension": ".py",
   "mimetype": "text/x-python",
   "name": "python",
   "nbconvert_exporter": "python",
   "pygments_lexer": "ipython3",
   "version": "3.12.4"
  }
 },
 "nbformat": 4,
 "nbformat_minor": 5
}
