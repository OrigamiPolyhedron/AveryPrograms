{
 "cells": [
  {
   "cell_type": "code",
   "execution_count": 1,
   "id": "1269e15b-2e11-4c5e-adf2-14b1dc07aad5",
   "metadata": {},
   "outputs": [
    {
     "data": {
      "text/plain": [
       "3600"
      ]
     },
     "execution_count": 1,
     "metadata": {},
     "output_type": "execute_result"
    }
   ],
   "source": [
    "# 3.1\n",
    "60*60"
   ]
  },
  {
   "cell_type": "code",
   "execution_count": 2,
   "id": "6b7bb585-3ea5-4ae0-be9b-d9d0e0efcda2",
   "metadata": {},
   "outputs": [],
   "source": [
    "# An hour has 3600 seconds."
   ]
  },
  {
   "cell_type": "code",
   "execution_count": 3,
   "id": "9efec752-7e31-4380-b8e1-51e89c21b4fb",
   "metadata": {},
   "outputs": [],
   "source": [
    "# 3.2\n",
    "seconds_per_hour = 60*60"
   ]
  },
  {
   "cell_type": "code",
   "execution_count": 4,
   "id": "68754490-ed2d-4a3e-bbb0-ddd3dd39acda",
   "metadata": {},
   "outputs": [
    {
     "data": {
      "text/plain": [
       "86400"
      ]
     },
     "execution_count": 4,
     "metadata": {},
     "output_type": "execute_result"
    }
   ],
   "source": [
    "# 3.3\n",
    "day_hours = 24\n",
    "seconds_per_hour * day_hours"
   ]
  },
  {
   "cell_type": "code",
   "execution_count": 5,
   "id": "1517a010-342e-4319-9c0e-9b0ac1be0c44",
   "metadata": {},
   "outputs": [],
   "source": [
    "# There's 86400 seconds in a day!"
   ]
  },
  {
   "cell_type": "code",
   "execution_count": 6,
   "id": "4b52beb9-584a-4d1b-9caa-c0e1677aea54",
   "metadata": {},
   "outputs": [],
   "source": [
    "#3.4\n",
    "seconds_per_day = seconds_per_hour * day_hours"
   ]
  },
  {
   "cell_type": "code",
   "execution_count": 7,
   "id": "3d17f6f8-f912-4b4f-bbe3-f49e074300f0",
   "metadata": {},
   "outputs": [
    {
     "data": {
      "text/plain": [
       "24.0"
      ]
     },
     "execution_count": 7,
     "metadata": {},
     "output_type": "execute_result"
    }
   ],
   "source": [
    "#3.5\n",
    "seconds_per_day / seconds_per_hour"
   ]
  },
  {
   "cell_type": "code",
   "execution_count": 8,
   "id": "76b7bf94-47f3-4e78-816e-ce239182c9a6",
   "metadata": {},
   "outputs": [
    {
     "data": {
      "text/plain": [
       "24"
      ]
     },
     "execution_count": 8,
     "metadata": {},
     "output_type": "execute_result"
    }
   ],
   "source": [
    "#3.6\n",
    "seconds_per_day // seconds_per_hour"
   ]
  },
  {
   "cell_type": "code",
   "execution_count": 9,
   "id": "2d39e982-6b40-4767-afb8-eefb89d4f4c8",
   "metadata": {},
   "outputs": [],
   "source": [
    "# The numbers from the two different division methods used in 3.6 and 3.5 agreed."
   ]
  }
 ],
 "metadata": {
  "kernelspec": {
   "display_name": "Python 3 (ipykernel)",
   "language": "python",
   "name": "python3"
  },
  "language_info": {
   "codemirror_mode": {
    "name": "ipython",
    "version": 3
   },
   "file_extension": ".py",
   "mimetype": "text/x-python",
   "name": "python",
   "nbconvert_exporter": "python",
   "pygments_lexer": "ipython3",
   "version": "3.11.7"
  }
 },
 "nbformat": 4,
 "nbformat_minor": 5
}
