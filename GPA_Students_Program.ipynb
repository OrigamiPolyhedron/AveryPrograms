{
 "cells": [
  {
   "cell_type": "code",
   "execution_count": 20,
   "id": "cf972afc-e2fd-4a5e-b52e-149a17e44236",
   "metadata": {},
   "outputs": [
    {
     "name": "stdin",
     "output_type": "stream",
     "text": [
      "Please enter student's last name or ZZZ to quit:   Boston\n",
      "Please enter student's first name:   Avery\n",
      "Please enter the gpa of Avery Boston 3.7\n"
     ]
    },
    {
     "name": "stdout",
     "output_type": "stream",
     "text": [
      "Congrats! Avery Boston has made the Honor Roll.\n",
      "Congrats! Avery Boston has made the Dean's list.\n"
     ]
    },
    {
     "name": "stdin",
     "output_type": "stream",
     "text": [
      "Please enter student's last name or ZZZ to quit:   Valle\n",
      "Please enter student's first name:   Leitia\n",
      "Please enter the gpa of Leitia Valle 3.47\n"
     ]
    },
    {
     "name": "stdout",
     "output_type": "stream",
     "text": [
      "Congrats! Leitia Valle has made the Honor Roll.\n"
     ]
    },
    {
     "name": "stdin",
     "output_type": "stream",
     "text": [
      "Please enter student's last name or ZZZ to quit:   Bear\n",
      "Please enter student's first name:   Smokey\n",
      "Please enter the gpa of Smokey Bear 3.2\n"
     ]
    },
    {
     "name": "stdout",
     "output_type": "stream",
     "text": [
      "Smokey Bear did not make Dean's list or Honor Roll.\n"
     ]
    },
    {
     "name": "stdin",
     "output_type": "stream",
     "text": [
      "Please enter student's last name or ZZZ to quit:   Bear\n",
      "Please enter student's first name:   Yogi\n",
      "Please enter the gpa of Yogi Bear 2.0\n"
     ]
    },
    {
     "name": "stdout",
     "output_type": "stream",
     "text": [
      "Yogi Bear did not make Dean's list or Honor Roll.\n"
     ]
    },
    {
     "name": "stdin",
     "output_type": "stream",
     "text": [
      "Please enter student's last name or ZZZ to quit:   Parker\n",
      "Please enter student's first name:   Peter\n",
      "Please enter the gpa of Peter Parker 3.9\n"
     ]
    },
    {
     "name": "stdout",
     "output_type": "stream",
     "text": [
      "Congrats! Peter Parker has made the Honor Roll.\n",
      "Congrats! Peter Parker has made the Dean's list.\n"
     ]
    },
    {
     "name": "stdin",
     "output_type": "stream",
     "text": [
      "Please enter student's last name or ZZZ to quit:   ZZZ\n"
     ]
    },
    {
     "name": "stdout",
     "output_type": "stream",
     "text": [
      "Thanks for using this program. Have a nice day!\n"
     ]
    }
   ],
   "source": [
    "# E. Avery Boston\n",
    "#GPA_Students_Program\n",
    "#This is a program that gets a student name and gpa as input and then checks the gpa to see\n",
    "#if the student will get on the Dean's List or Honor Roll. Then it prints out if a student\n",
    "#made either. The program will then ask for another last name, repeating the loop.\n",
    "#lastName = string, input by user, firstName = string, input by user\n",
    "#gpa = float, input by user\n",
    "\n",
    "lastName = input(\"Please enter student's last name or ZZZ to quit:  \")\n",
    "while lastName != 'ZZZ':\n",
    "    firstName = input(\"Please enter student's first name:  \")\n",
    "    gpa = float(input(\"Please enter the gpa of \" + firstName + \" \" + lastName))\n",
    "    if gpa >= 3.25:\n",
    "        print(\"Congrats! \" + firstName + \" \" + lastName + \" has made the Honor Roll.\")\n",
    "        if gpa >= 3.50:\n",
    "            print(\"Congrats! \" + firstName + \" \" + lastName + \" has made the Dean's list.\")\n",
    "    else:\n",
    "        print(firstName + \" \" + lastName + \" did not make Dean's list or Honor Roll.\")\n",
    "    lastName = input(\"Please enter student's last name or ZZZ to quit:  \")\n",
    "print(\"Thanks for using this program. Have a nice day!\")"
   ]
  },
  {
   "cell_type": "code",
   "execution_count": null,
   "id": "b29c043a-662a-4f56-a981-5da4065db096",
   "metadata": {},
   "outputs": [],
   "source": []
  }
 ],
 "metadata": {
  "kernelspec": {
   "display_name": "Python 3 (ipykernel)",
   "language": "python",
   "name": "python3"
  },
  "language_info": {
   "codemirror_mode": {
    "name": "ipython",
    "version": 3
   },
   "file_extension": ".py",
   "mimetype": "text/x-python",
   "name": "python",
   "nbconvert_exporter": "python",
   "pygments_lexer": "ipython3",
   "version": "3.11.7"
  }
 },
 "nbformat": 4,
 "nbformat_minor": 5
}
