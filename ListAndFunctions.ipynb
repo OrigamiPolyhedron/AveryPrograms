{
 "cells": [
  {
   "cell_type": "code",
   "execution_count": 2,
   "id": "30d80b08-d5eb-4257-8d9f-ec2c211266c8",
   "metadata": {},
   "outputs": [],
   "source": [
    "#7.4\n",
    "things = ['mozzarella', 'cinderella', 'salmonella']"
   ]
  },
  {
   "cell_type": "code",
   "execution_count": 3,
   "id": "d726859f-b11a-47c6-b7f2-93f8a8662afc",
   "metadata": {},
   "outputs": [
    {
     "data": {
      "text/plain": [
       "['mozzarella', 'Cinderella', 'salmonella']"
      ]
     },
     "execution_count": 3,
     "metadata": {},
     "output_type": "execute_result"
    }
   ],
   "source": [
    "#7.5\n",
    "things[1] = 'Cinderella'\n",
    "things"
   ]
  },
  {
   "cell_type": "code",
   "execution_count": null,
   "id": "224482d5-7a1a-41ee-911e-4c43a995b05c",
   "metadata": {},
   "outputs": [],
   "source": [
    "#It did change the element in the list!"
   ]
  },
  {
   "cell_type": "code",
   "execution_count": 4,
   "id": "53e0fb38-b6b1-410c-baee-e17884e48cbd",
   "metadata": {},
   "outputs": [
    {
     "data": {
      "text/plain": [
       "['MOZZARELLA', 'Cinderella', 'salmonella']"
      ]
     },
     "execution_count": 4,
     "metadata": {},
     "output_type": "execute_result"
    }
   ],
   "source": [
    "#7.6\n",
    "things[0] = 'MOZZARELLA'\n",
    "things"
   ]
  },
  {
   "cell_type": "code",
   "execution_count": 5,
   "id": "beb2dc45-6e5c-474b-bedb-712595145f84",
   "metadata": {},
   "outputs": [
    {
     "name": "stdout",
     "output_type": "stream",
     "text": [
      "Nobel Prize collected.\n"
     ]
    },
    {
     "data": {
      "text/plain": [
       "['MOZZARELLA', 'Cinderella']"
      ]
     },
     "execution_count": 5,
     "metadata": {},
     "output_type": "execute_result"
    }
   ],
   "source": [
    "#7.7\n",
    "things.remove('salmonella')\n",
    "print('Nobel Prize collected.')\n",
    "things"
   ]
  },
  {
   "cell_type": "code",
   "execution_count": 12,
   "id": "424a2b91-fd4f-4aad-897e-0a225261b7bd",
   "metadata": {},
   "outputs": [
    {
     "data": {
      "text/plain": [
       "['Harry', 'Ron', 'Hermonie']"
      ]
     },
     "execution_count": 12,
     "metadata": {},
     "output_type": "execute_result"
    }
   ],
   "source": [
    "#9.1\n",
    "def good():\n",
    "    wizKids = ['Harry', 'Ron', 'Hermonie']\n",
    "    return wizKids\n",
    "good()"
   ]
  },
  {
   "cell_type": "code",
   "execution_count": 27,
   "id": "3ad6cab3-d1b0-42a8-96f5-d477da826c8c",
   "metadata": {},
   "outputs": [],
   "source": [
    "#9.2\n",
    "#9.2 Define a generator function called get_odds() that returns the odd numbers from range(10). Use a for loop to find and print the third value returned.\n",
    "def get_odds():\n",
    "    num = 0\n",
    "    for num in range(11):\n",
    "        while num < 10:\n",
    "            if num % 2 != 0:\n",
    "                yield num\n",
    "                num += 1\n",
    "            else:\n",
    "              num += 1\n"
   ]
  },
  {
   "cell_type": "code",
   "execution_count": null,
   "id": "c210f201-408d-4ea8-bf9d-43ebec1e700e",
   "metadata": {},
   "outputs": [],
   "source": [
    "#I can't seem to get this one to work after over an hour. I need to ask about it\n",
    "#either during the office hours or after class when there's a bit of time."
   ]
  }
 ],
 "metadata": {
  "kernelspec": {
   "display_name": "Python 3 (ipykernel)",
   "language": "python",
   "name": "python3"
  },
  "language_info": {
   "codemirror_mode": {
    "name": "ipython",
    "version": 3
   },
   "file_extension": ".py",
   "mimetype": "text/x-python",
   "name": "python",
   "nbconvert_exporter": "python",
   "pygments_lexer": "ipython3",
   "version": "3.11.7"
  }
 },
 "nbformat": 4,
 "nbformat_minor": 5
}
