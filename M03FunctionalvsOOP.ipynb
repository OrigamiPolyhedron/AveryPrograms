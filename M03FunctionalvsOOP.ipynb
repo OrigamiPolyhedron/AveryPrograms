{
 "cells": [
  {
   "cell_type": "code",
   "execution_count": 6,
   "id": "11b259c5-3e14-4e0a-9836-0cfbb2bc2eb9",
   "metadata": {},
   "outputs": [
    {
     "name": "stdout",
     "output_type": "stream",
     "text": [
      "[0, 0, 1, 2, 2]\n"
     ]
    }
   ],
   "source": [
    "def sort012(num, userList):\n",
    "    temp = 0\n",
    "    for count in range(num - 1):\n",
    "        for count2 in range(count + 1, num):\n",
    "            if userList[count] > userList[count2]:\n",
    "                temp = userList[count2]\n",
    "                userList[count2] = userList[count]\n",
    "                userList[count] = temp\n",
    "    return userList\n",
    "\n",
    "N = 5\n",
    "\n",
    "arr = [0, 1, 2, 0, 2]\n",
    "\n",
    "arr2 = sort012(N, arr)\n",
    "\n",
    "print(arr2)\n",
    "\n"
   ]
  },
  {
   "cell_type": "code",
   "execution_count": 11,
   "id": "c4c3bd07-c9d7-43fb-86ac-2535de06ad70",
   "metadata": {},
   "outputs": [
    {
     "name": "stdout",
     "output_type": "stream",
     "text": [
      "[1, 2, 3, 4, 5]\n",
      "10 is not present.\n"
     ]
    }
   ],
   "source": [
    "def binary(num, userList, kay):\n",
    "    myIndex = -1\n",
    "    for count in range(num):\n",
    "        if userList[count] == kay:\n",
    "            myIndex = count\n",
    "    return myIndex\n",
    "\n",
    "N = 5\n",
    "\n",
    "arr = [1, 2, 3, 4, 5]\n",
    "\n",
    "K = 10\n",
    "\n",
    "print(arr)\n",
    "\n",
    "listIndex = binary(N, arr, K)\n",
    "\n",
    "if listIndex == -1:\n",
    "    print(str(K) + ' is not present.')\n",
    "\n",
    "else:\n",
    "    print(str(K) + ' appears at index ' +str(listIndex)+'.')\n",
    "    "
   ]
  },
  {
   "cell_type": "code",
   "execution_count": null,
   "id": "4090704f-2b5f-4b1c-a4be-4046e52ba161",
   "metadata": {},
   "outputs": [],
   "source": []
  }
 ],
 "metadata": {
  "kernelspec": {
   "display_name": "Python 3 (ipykernel)",
   "language": "python",
   "name": "python3"
  },
  "language_info": {
   "codemirror_mode": {
    "name": "ipython",
    "version": 3
   },
   "file_extension": ".py",
   "mimetype": "text/x-python",
   "name": "python",
   "nbconvert_exporter": "python",
   "pygments_lexer": "ipython3",
   "version": "3.11.7"
  }
 },
 "nbformat": 4,
 "nbformat_minor": 5
}
